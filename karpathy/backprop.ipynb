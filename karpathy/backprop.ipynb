{
 "cells": [
  {
   "cell_type": "markdown",
   "metadata": {},
   "source": [
    "\n",
    "## 1. Neural Networks are Mathematical Expression\n",
    "which its\n",
    "- input: 1) input data, 2) weights of neural network\n",
    "- output: prediction\n",
    "\n",
    "> my claim is that micrograd is what you need to train your networks and everything else is just efficiency\n"
   ]
  },
  {
   "cell_type": "markdown",
   "metadata": {},
   "source": [
    "\n",
    "## 2. Think of derivative just as a tiny step\n",
    "\n",
    "You need to have a very good understanding of what a derivative is\n",
    "\n",
    "> if you slightly bump up you're at some point $x$ that you're interested in or a and if you slightly bump up you know you slightly increase it by small number $h$ how does the function respond with what sensitivity does it respond what is the slope at that point does the function go up or does it go down and by how much and that's the slope of that function the the slope of that response at that point and so we can basically evaluate the derivative here numerically by taking a very small $h$"
   ]
  },
  {
   "cell_type": "code",
   "execution_count": 1,
   "metadata": {},
   "outputs": [
    {
     "name": "stdout",
     "output_type": "stream",
     "text": [
      "d1:  -4\n",
      "d2:  -3.9997\n",
      "slope\n",
      "= (d2-d1)/h \n",
      "= {(a+h)*b+c-(a*b+c)}/h\n",
      "= bh/b\n",
      "= b = 3.00000000000189\n"
     ]
    }
   ],
   "source": [
    "# in code expression, h is just a small number which represents a tiny step\n",
    "h = 0.0001\n",
    "\n",
    "a = -2\n",
    "b = 3\n",
    "c = 2\n",
    "\n",
    "d1 = a * b + c\n",
    "a+=h\n",
    "d2 = a * b + c\n",
    "\n",
    "print(\"d1: \", d1)\n",
    "print(\"d2: \", d2)\n",
    "print(\"slope\\n= (d2-d1)/h \\n= {(a+h)*b+c-(a*b+c)}/h\\n= bh/b\\n= b =\", (d2-d1)/h)"
   ]
  },
  {
   "cell_type": "markdown",
   "metadata": {},
   "source": [
    "We can easily calculate why b becomes 3.\n",
    "\n",
    "$d_2-d_1 = h*b$\n",
    "$h * b / h = b$\n",
    "Therefore the gradient is b\n",
    "\n",
    "On the other hand if we check the gradient of b, it will be a."
   ]
  },
  {
   "cell_type": "markdown",
   "metadata": {},
   "source": [
    "## 3. Value Class"
   ]
  },
  {
   "cell_type": "code",
   "execution_count": 2,
   "metadata": {},
   "outputs": [],
   "source": [
    "class Value:\n",
    "    def __init__(self, data):\n",
    "        self.data = data\n",
    "\n",
    "    def __repr__(self):\n",
    "        return f\"Vaule(data={self.data})\""
   ]
  },
  {
   "cell_type": "code",
   "execution_count": 3,
   "metadata": {},
   "outputs": [
    {
     "ename": "TypeError",
     "evalue": "unsupported operand type(s) for +: 'Value' and 'Value'",
     "output_type": "error",
     "traceback": [
      "\u001b[31m---------------------------------------------------------------------------\u001b[39m",
      "\u001b[31mTypeError\u001b[39m                                 Traceback (most recent call last)",
      "\u001b[36mCell\u001b[39m\u001b[36m \u001b[39m\u001b[32mIn[3]\u001b[39m\u001b[32m, line 1\u001b[39m\n\u001b[32m----> \u001b[39m\u001b[32m1\u001b[39m \u001b[43mValue\u001b[49m\u001b[43m(\u001b[49m\u001b[32;43m2.0\u001b[39;49m\u001b[43m)\u001b[49m\u001b[43m \u001b[49m\u001b[43m+\u001b[49m\u001b[43m \u001b[49m\u001b[43mValue\u001b[49m\u001b[43m(\u001b[49m\u001b[32;43m4.0\u001b[39;49m\u001b[43m)\u001b[49m\n",
      "\u001b[31mTypeError\u001b[39m: unsupported operand type(s) for +: 'Value' and 'Value'"
     ]
    }
   ],
   "source": [
    "Value(2.0) + Value(4.0)"
   ]
  },
  {
   "cell_type": "markdown",
   "metadata": {},
   "source": [
    "We need to configure a special function for Value instances to add them."
   ]
  },
  {
   "cell_type": "code",
   "execution_count": 4,
   "metadata": {},
   "outputs": [],
   "source": [
    "class Value:\n",
    "    def __init__(self, data, _children=(), _op=''):\n",
    "        self.data = data\n",
    "        self._children = _children\n",
    "        self._op = _op\n",
    "\n",
    "    def __repr__(self):\n",
    "        return f\"Vaule(data={self.data})\"\n",
    "    \n",
    "    def __add__(self, other):\n",
    "        return Value(self.data + other.data, (self, other), '+')"
   ]
  },
  {
   "cell_type": "code",
   "execution_count": 5,
   "metadata": {},
   "outputs": [
    {
     "data": {
      "text/plain": [
       "Vaule(data=6.0)"
      ]
     },
     "execution_count": 5,
     "metadata": {},
     "output_type": "execute_result"
    }
   ],
   "source": [
    "Value(2.0) + Value(4.0)"
   ]
  },
  {
   "cell_type": "markdown",
   "metadata": {},
   "source": [
    "Now let's manually backpropagate..."
   ]
  },
  {
   "cell_type": "code",
   "execution_count": 27,
   "metadata": {},
   "outputs": [
    {
     "data": {
      "text/plain": [
       "Vaule(data=-8.0)"
      ]
     },
     "execution_count": 27,
     "metadata": {},
     "output_type": "execute_result"
    }
   ],
   "source": [
    "class Value:\n",
    "    def __init__(self, data, _children=(), _op='', label=''):\n",
    "        self.data = data\n",
    "        self._prev = set(_children) # error happened because i didn't use 'set' here !!\n",
    "        self._op = _op\n",
    "        self.label = label\n",
    "\n",
    "    def __repr__(self):\n",
    "        return f\"Vaule(data={self.data})\"\n",
    "    \n",
    "    def __add__(self, other):\n",
    "        out = Value(self.data + other.data, (self, other), '+')\n",
    "        return out\n",
    "    \n",
    "    def __mul__(self, other):\n",
    "        out = Value(self.data * other.data, (self, other), '*')\n",
    "        return out\n",
    "    \n",
    "a = Value(2.0, label='a')\n",
    "b = Value(-3.0, label='b')\n",
    "c = Value(10.0, label='c')\n",
    "e = a*b; e.label = 'e'\n",
    "d = e+c; d.label = 'd'\n",
    "f = Value(-2.0, label='f')\n",
    "L = d*f; L.label='L'\n",
    "L"
   ]
  },
  {
   "cell_type": "markdown",
   "metadata": {},
   "source": [
    "graphviz is just an opensource visualizing tool, which in this case shows a tree-like data structure which the final Loss (L) as the root."
   ]
  },
  {
   "cell_type": "code",
   "execution_count": 60,
   "metadata": {},
   "outputs": [
    {
     "data": {
      "image/svg+xml": [
       "<?xml version=\"1.0\" encoding=\"UTF-8\" standalone=\"no\"?>\n",
       "<!DOCTYPE svg PUBLIC \"-//W3C//DTD SVG 1.1//EN\"\n",
       " \"http://www.w3.org/Graphics/SVG/1.1/DTD/svg11.dtd\">\n",
       "<!-- Generated by graphviz version 12.2.1 (20250203.1708)\n",
       " -->\n",
       "<!-- Pages: 1 -->\n",
       "<svg width=\"1334pt\" height=\"156pt\"\n",
       " viewBox=\"0.00 0.00 1334.00 156.00\" xmlns=\"http://www.w3.org/2000/svg\" xmlns:xlink=\"http://www.w3.org/1999/xlink\">\n",
       "<g id=\"graph0\" class=\"graph\" transform=\"scale(1 1) rotate(0) translate(4 152)\">\n",
       "<polygon fill=\"white\" stroke=\"none\" points=\"-4,4 -4,-152 1330,-152 1330,4 -4,4\"/>\n",
       "<!-- 140342957234208 -->\n",
       "<g id=\"node1\" class=\"node\">\n",
       "<title>140342957234208</title>\n",
       "<polygon fill=\"none\" stroke=\"black\" points=\"0,-111.5 0,-147.5 238.5,-147.5 238.5,-111.5 0,-111.5\"/>\n",
       "<text text-anchor=\"middle\" x=\"12.5\" y=\"-125.2\" font-family=\"Times,serif\" font-size=\"14.00\">b</text>\n",
       "<polyline fill=\"none\" stroke=\"black\" points=\"25,-112.25 25,-147.5\"/>\n",
       "<text text-anchor=\"middle\" x=\"78\" y=\"-125.2\" font-family=\"Times,serif\" font-size=\"14.00\">data &#45;3.0000</text>\n",
       "<polyline fill=\"none\" stroke=\"black\" points=\"131,-112.25 131,-147.5\"/>\n",
       "<text text-anchor=\"middle\" x=\"184.75\" y=\"-125.2\" font-family=\"Times,serif\" font-size=\"14.00\">grad &#45;4.0000</text>\n",
       "</g>\n",
       "<!-- 140342956993440* -->\n",
       "<g id=\"node9\" class=\"node\">\n",
       "<title>140342956993440*</title>\n",
       "<ellipse fill=\"none\" stroke=\"black\" cx=\"301.5\" cy=\"-101.5\" rx=\"27\" ry=\"18\"/>\n",
       "<text text-anchor=\"middle\" x=\"301.5\" y=\"-96.83\" font-family=\"Times,serif\" font-size=\"14.00\">*</text>\n",
       "</g>\n",
       "<!-- 140342957234208&#45;&gt;140342956993440* -->\n",
       "<g id=\"edge7\" class=\"edge\">\n",
       "<title>140342957234208&#45;&gt;140342956993440*</title>\n",
       "<path fill=\"none\" stroke=\"black\" d=\"M238.97,-111.06C247.71,-109.7 256.05,-108.41 263.61,-107.23\"/>\n",
       "<polygon fill=\"black\" stroke=\"black\" points=\"263.95,-110.72 273.29,-105.73 262.88,-103.8 263.95,-110.72\"/>\n",
       "</g>\n",
       "<!-- 140342442593696 -->\n",
       "<g id=\"node2\" class=\"node\">\n",
       "<title>140342442593696</title>\n",
       "<polygon fill=\"none\" stroke=\"black\" points=\"733.88,-0.5 733.88,-36.5 964.12,-36.5 964.12,-0.5 733.88,-0.5\"/>\n",
       "<text text-anchor=\"middle\" x=\"744.5\" y=\"-14.2\" font-family=\"Times,serif\" font-size=\"14.00\">f</text>\n",
       "<polyline fill=\"none\" stroke=\"black\" points=\"755.12,-1.25 755.12,-36.5\"/>\n",
       "<text text-anchor=\"middle\" x=\"808.12\" y=\"-14.2\" font-family=\"Times,serif\" font-size=\"14.00\">data &#45;2.0000</text>\n",
       "<polyline fill=\"none\" stroke=\"black\" points=\"861.12,-1.25 861.12,-36.5\"/>\n",
       "<text text-anchor=\"middle\" x=\"912.62\" y=\"-14.2\" font-family=\"Times,serif\" font-size=\"14.00\">grad 4.0000</text>\n",
       "</g>\n",
       "<!-- 140342442678688* -->\n",
       "<g id=\"node6\" class=\"node\">\n",
       "<title>140342442678688*</title>\n",
       "<ellipse fill=\"none\" stroke=\"black\" cx=\"1029\" cy=\"-45.5\" rx=\"27\" ry=\"18\"/>\n",
       "<text text-anchor=\"middle\" x=\"1029\" y=\"-40.83\" font-family=\"Times,serif\" font-size=\"14.00\">*</text>\n",
       "</g>\n",
       "<!-- 140342442593696&#45;&gt;140342442678688* -->\n",
       "<g id=\"edge4\" class=\"edge\">\n",
       "<title>140342442593696&#45;&gt;140342442678688*</title>\n",
       "<path fill=\"none\" stroke=\"black\" d=\"M964.49,-35.87C973.92,-37.3 982.94,-38.66 991.06,-39.9\"/>\n",
       "<polygon fill=\"black\" stroke=\"black\" points=\"990.36,-43.33 1000.77,-41.37 991.41,-36.41 990.36,-43.33\"/>\n",
       "</g>\n",
       "<!-- 140342442593456 -->\n",
       "<g id=\"node3\" class=\"node\">\n",
       "<title>140342442593456</title>\n",
       "<polygon fill=\"none\" stroke=\"black\" points=\"732,-55.5 732,-91.5 966,-91.5 966,-55.5 732,-55.5\"/>\n",
       "<text text-anchor=\"middle\" x=\"744.5\" y=\"-69.2\" font-family=\"Times,serif\" font-size=\"14.00\">d</text>\n",
       "<polyline fill=\"none\" stroke=\"black\" points=\"757,-56.25 757,-91.5\"/>\n",
       "<text text-anchor=\"middle\" x=\"807.75\" y=\"-69.2\" font-family=\"Times,serif\" font-size=\"14.00\">data 4.0000</text>\n",
       "<polyline fill=\"none\" stroke=\"black\" points=\"858.5,-56.25 858.5,-91.5\"/>\n",
       "<text text-anchor=\"middle\" x=\"912.25\" y=\"-69.2\" font-family=\"Times,serif\" font-size=\"14.00\">grad &#45;2.0000</text>\n",
       "</g>\n",
       "<!-- 140342442593456&#45;&gt;140342442678688* -->\n",
       "<g id=\"edge5\" class=\"edge\">\n",
       "<title>140342442593456&#45;&gt;140342442678688*</title>\n",
       "<path fill=\"none\" stroke=\"black\" d=\"M966.24,-55.21C975.07,-53.83 983.51,-52.5 991.15,-51.3\"/>\n",
       "<polygon fill=\"black\" stroke=\"black\" points=\"991.62,-54.77 1000.96,-49.75 990.53,-47.85 991.62,-54.77\"/>\n",
       "</g>\n",
       "<!-- 140342442593456+ -->\n",
       "<g id=\"node4\" class=\"node\">\n",
       "<title>140342442593456+</title>\n",
       "<ellipse fill=\"none\" stroke=\"black\" cx=\"669\" cy=\"-73.5\" rx=\"27\" ry=\"18\"/>\n",
       "<text text-anchor=\"middle\" x=\"669\" y=\"-68.83\" font-family=\"Times,serif\" font-size=\"14.00\">+</text>\n",
       "</g>\n",
       "<!-- 140342442593456+&#45;&gt;140342442593456 -->\n",
       "<g id=\"edge1\" class=\"edge\">\n",
       "<title>140342442593456+&#45;&gt;140342442593456</title>\n",
       "<path fill=\"none\" stroke=\"black\" d=\"M696.26,-73.5C703.34,-73.5 711.48,-73.5 720.25,-73.5\"/>\n",
       "<polygon fill=\"black\" stroke=\"black\" points=\"720.15,-77 730.15,-73.5 720.15,-70 720.15,-77\"/>\n",
       "</g>\n",
       "<!-- 140342442678688 -->\n",
       "<g id=\"node5\" class=\"node\">\n",
       "<title>140342442678688</title>\n",
       "<polygon fill=\"none\" stroke=\"black\" points=\"1092,-27.5 1092,-63.5 1326,-63.5 1326,-27.5 1092,-27.5\"/>\n",
       "<text text-anchor=\"middle\" x=\"1104.5\" y=\"-41.2\" font-family=\"Times,serif\" font-size=\"14.00\">L</text>\n",
       "<polyline fill=\"none\" stroke=\"black\" points=\"1117,-28.25 1117,-63.5\"/>\n",
       "<text text-anchor=\"middle\" x=\"1170\" y=\"-41.2\" font-family=\"Times,serif\" font-size=\"14.00\">data &#45;8.0000</text>\n",
       "<polyline fill=\"none\" stroke=\"black\" points=\"1223,-28.25 1223,-63.5\"/>\n",
       "<text text-anchor=\"middle\" x=\"1274.5\" y=\"-41.2\" font-family=\"Times,serif\" font-size=\"14.00\">grad 0.0000</text>\n",
       "</g>\n",
       "<!-- 140342442678688*&#45;&gt;140342442678688 -->\n",
       "<g id=\"edge2\" class=\"edge\">\n",
       "<title>140342442678688*&#45;&gt;140342442678688</title>\n",
       "<path fill=\"none\" stroke=\"black\" d=\"M1056.26,-45.5C1063.34,-45.5 1071.48,-45.5 1080.25,-45.5\"/>\n",
       "<polygon fill=\"black\" stroke=\"black\" points=\"1080.15,-49 1090.15,-45.5 1080.15,-42 1080.15,-49\"/>\n",
       "</g>\n",
       "<!-- 140342957235072 -->\n",
       "<g id=\"node7\" class=\"node\">\n",
       "<title>140342957235072</title>\n",
       "<polygon fill=\"none\" stroke=\"black\" points=\"4.88,-56.5 4.88,-92.5 233.62,-92.5 233.62,-56.5 4.88,-56.5\"/>\n",
       "<text text-anchor=\"middle\" x=\"17\" y=\"-70.2\" font-family=\"Times,serif\" font-size=\"14.00\">a</text>\n",
       "<polyline fill=\"none\" stroke=\"black\" points=\"29.12,-57.25 29.12,-92.5\"/>\n",
       "<text text-anchor=\"middle\" x=\"79.88\" y=\"-70.2\" font-family=\"Times,serif\" font-size=\"14.00\">data 2.0000</text>\n",
       "<polyline fill=\"none\" stroke=\"black\" points=\"130.62,-57.25 130.62,-92.5\"/>\n",
       "<text text-anchor=\"middle\" x=\"182.12\" y=\"-70.2\" font-family=\"Times,serif\" font-size=\"14.00\">grad 6.0000</text>\n",
       "</g>\n",
       "<!-- 140342957235072&#45;&gt;140342956993440* -->\n",
       "<g id=\"edge6\" class=\"edge\">\n",
       "<title>140342957235072&#45;&gt;140342956993440*</title>\n",
       "<path fill=\"none\" stroke=\"black\" d=\"M233.89,-91.52C244.45,-93.1 254.55,-94.62 263.54,-95.96\"/>\n",
       "<polygon fill=\"black\" stroke=\"black\" points=\"262.78,-99.39 273.18,-97.41 263.81,-92.47 262.78,-99.39\"/>\n",
       "</g>\n",
       "<!-- 140342956993440 -->\n",
       "<g id=\"node8\" class=\"node\">\n",
       "<title>140342956993440</title>\n",
       "<polygon fill=\"none\" stroke=\"black\" points=\"366.38,-83.5 366.38,-119.5 604.12,-119.5 604.12,-83.5 366.38,-83.5\"/>\n",
       "<text text-anchor=\"middle\" x=\"378.5\" y=\"-97.2\" font-family=\"Times,serif\" font-size=\"14.00\">e</text>\n",
       "<polyline fill=\"none\" stroke=\"black\" points=\"390.62,-84.25 390.62,-119.5\"/>\n",
       "<text text-anchor=\"middle\" x=\"443.62\" y=\"-97.2\" font-family=\"Times,serif\" font-size=\"14.00\">data &#45;6.0000</text>\n",
       "<polyline fill=\"none\" stroke=\"black\" points=\"496.62,-84.25 496.62,-119.5\"/>\n",
       "<text text-anchor=\"middle\" x=\"550.38\" y=\"-97.2\" font-family=\"Times,serif\" font-size=\"14.00\">grad &#45;2.0000</text>\n",
       "</g>\n",
       "<!-- 140342956993440&#45;&gt;140342442593456+ -->\n",
       "<g id=\"edge9\" class=\"edge\">\n",
       "<title>140342956993440&#45;&gt;140342442593456+</title>\n",
       "<path fill=\"none\" stroke=\"black\" d=\"M604.43,-83.29C613.91,-81.83 622.95,-80.44 631.08,-79.19\"/>\n",
       "<polygon fill=\"black\" stroke=\"black\" points=\"631.45,-82.67 640.8,-77.69 630.38,-75.75 631.45,-82.67\"/>\n",
       "</g>\n",
       "<!-- 140342956993440*&#45;&gt;140342956993440 -->\n",
       "<g id=\"edge3\" class=\"edge\">\n",
       "<title>140342956993440*&#45;&gt;140342956993440</title>\n",
       "<path fill=\"none\" stroke=\"black\" d=\"M328.93,-101.5C336.5,-101.5 345.3,-101.5 354.79,-101.5\"/>\n",
       "<polygon fill=\"black\" stroke=\"black\" points=\"354.7,-105 364.7,-101.5 354.7,-98 354.7,-105\"/>\n",
       "</g>\n",
       "<!-- 140342957238192 -->\n",
       "<g id=\"node10\" class=\"node\">\n",
       "<title>140342957238192</title>\n",
       "<polygon fill=\"none\" stroke=\"black\" points=\"364.5,-28.5 364.5,-64.5 606,-64.5 606,-28.5 364.5,-28.5\"/>\n",
       "<text text-anchor=\"middle\" x=\"376.25\" y=\"-42.2\" font-family=\"Times,serif\" font-size=\"14.00\">c</text>\n",
       "<polyline fill=\"none\" stroke=\"black\" points=\"388,-29.25 388,-64.5\"/>\n",
       "<text text-anchor=\"middle\" x=\"443.25\" y=\"-42.2\" font-family=\"Times,serif\" font-size=\"14.00\">data 10.0000</text>\n",
       "<polyline fill=\"none\" stroke=\"black\" points=\"498.5,-29.25 498.5,-64.5\"/>\n",
       "<text text-anchor=\"middle\" x=\"552.25\" y=\"-42.2\" font-family=\"Times,serif\" font-size=\"14.00\">grad &#45;2.0000</text>\n",
       "</g>\n",
       "<!-- 140342957238192&#45;&gt;140342442593456+ -->\n",
       "<g id=\"edge8\" class=\"edge\">\n",
       "<title>140342957238192&#45;&gt;140342442593456+</title>\n",
       "<path fill=\"none\" stroke=\"black\" d=\"M606.47,-64.36C615.22,-65.66 623.56,-66.9 631.12,-68.02\"/>\n",
       "<polygon fill=\"black\" stroke=\"black\" points=\"630.41,-71.45 640.81,-69.46 631.43,-64.53 630.41,-71.45\"/>\n",
       "</g>\n",
       "</g>\n",
       "</svg>\n"
      ],
      "text/plain": [
       "<graphviz.graphs.Digraph at 0x7fa4057415e0>"
      ]
     },
     "execution_count": 60,
     "metadata": {},
     "output_type": "execute_result"
    }
   ],
   "source": [
    "from graphviz import Digraph\n",
    "\n",
    "def trace(root):\n",
    "    nodes, edges = set(), set()\n",
    "    def build(v):\n",
    "        if v not in nodes:\n",
    "            nodes.add(v)\n",
    "            for child in v._prev:\n",
    "                edges.add((child, v))\n",
    "                build(child)\n",
    "    build(root)\n",
    "    return nodes, edges\n",
    "\n",
    "\n",
    "def draw_dot(root):\n",
    "    dot = Digraph(format='svg', graph_attr={'rankdir': 'LR'})\n",
    "\n",
    "    nodes, edges = trace(root)\n",
    "\n",
    "    for n in nodes:\n",
    "        uid = str(id(n))\n",
    "        dot.node(name=uid, label =\"{ %s | data %.4f | grad %.4f }\" % (n.label, n.data, n.grad), shape='record')\n",
    "        if n._op:\n",
    "            dot.node(name=uid + n._op, label = n._op)\n",
    "            dot.edge(uid + n._op, uid)\n",
    "\n",
    "    for n1, n2 in edges:\n",
    "        dot.edge(str(id(n1)), str(id(n2)) + n2._op)\n",
    "    \n",
    "    return dot\n",
    "    \n",
    "draw_dot(L)"
   ]
  },
  {
   "cell_type": "markdown",
   "metadata": {},
   "source": [
    "Now let's manually back propagate using lol()"
   ]
  },
  {
   "cell_type": "code",
   "execution_count": 37,
   "metadata": {},
   "outputs": [
    {
     "data": {
      "text/plain": [
       "Vaule(data=-8.0)"
      ]
     },
     "execution_count": 37,
     "metadata": {},
     "output_type": "execute_result"
    }
   ],
   "source": [
    "class Value:\n",
    "    def __init__(self, data, _children=(), _op='', label='', grad=0):\n",
    "        self.data = data\n",
    "        self._prev = set(_children) # error happened because i didn't use 'set' here !!\n",
    "        self._op = _op\n",
    "        self.label = label\n",
    "        self.grad = grad\n",
    "\n",
    "    def __repr__(self):\n",
    "        return f\"Vaule(data={self.data})\"\n",
    "    \n",
    "    def __add__(self, other):\n",
    "        other = other if isinstance(other, Value) else Value(other)\n",
    "        out = Value(self.data + other.data, (self, other), '+')\n",
    "        return out\n",
    "    \n",
    "    def __mul__(self, other):\n",
    "        out = Value(self.data * other.data, (self, other), '*')\n",
    "        return out\n",
    "    \n",
    "a = Value(2.0, label='a')\n",
    "b = Value(-3.0, label='b')\n",
    "c = Value(10.0, label='c')\n",
    "e = a*b; e.label = 'e'\n",
    "d = e+c; d.label = 'd'\n",
    "f = Value(-2.0, label='f')\n",
    "L = d*f; L.label='L'\n",
    "L"
   ]
  },
  {
   "cell_type": "code",
   "execution_count": 43,
   "metadata": {},
   "outputs": [],
   "source": [
    "def lol():\n",
    "    h = 0.0001\n",
    "\n",
    "    a = Value(2.0, label='a')\n",
    "    b = Value(-3.0, label='b')\n",
    "    c = Value(10.0, label='c')\n",
    "    e = a*b; e.label = 'e'\n",
    "    d = e+c; d.label = 'd'\n",
    "    f = Value(-2.0, label='f')\n",
    "    L = d*f; L.label='L'\n",
    "    L1 = L.data\n",
    "    \n",
    "    a = Value(2.0, label='a')\n",
    "    b = Value(-3.0, label='b')\n",
    "    c = Value(10.0, label='c')\n",
    "    e = a*b; e.label = 'e'\n",
    "    d = e+c; d.label = 'd'\n",
    "    f = Value(-2.0, label='f')\n",
    "    L = d*f; L.label='L'\n",
    "    L2 = L.data + h\n",
    "    print((L2-L1)/h)"
   ]
  },
  {
   "cell_type": "code",
   "execution_count": 44,
   "metadata": {},
   "outputs": [
    {
     "name": "stdout",
     "output_type": "stream",
     "text": [
      "0.9999999999976694\n"
     ]
    }
   ],
   "source": [
    "lol() # derivative of L becomes 1"
   ]
  },
  {
   "cell_type": "code",
   "execution_count": 45,
   "metadata": {},
   "outputs": [],
   "source": [
    "L.grad = 1"
   ]
  },
  {
   "cell_type": "markdown",
   "metadata": {},
   "source": [
    "Let's check f now.\n",
    "\n",
    "$dL/df = \\frac{(f+h)*d-f*d}{h} = \\frac{d*h}{h} = d = 4$\n",
    "\n",
    "let's check if lol() gives us the same result:\n",
    "(since we need to add `h` to f, let's slightly modify the Value Class)"
   ]
  },
  {
   "cell_type": "code",
   "execution_count": 49,
   "metadata": {},
   "outputs": [
    {
     "data": {
      "text/plain": [
       "Vaule(data=-8.0)"
      ]
     },
     "execution_count": 49,
     "metadata": {},
     "output_type": "execute_result"
    }
   ],
   "source": [
    "class Value:\n",
    "    def __init__(self, data, _children=(), _op='', label='', grad=0):\n",
    "        self.data = data\n",
    "        self._prev = set(_children) # error happened because i didn't use 'set' here !!\n",
    "        self._op = _op\n",
    "        self.label = label\n",
    "        self.grad = grad\n",
    "\n",
    "    def __repr__(self):\n",
    "        return f\"Vaule(data={self.data})\"\n",
    "    \n",
    "    def __add__(self, other):\n",
    "        other = other if isinstance(other, Value) else Value(other)\n",
    "        out = Value(self.data + other.data, (self, other), '+')\n",
    "        return out\n",
    "    \n",
    "    def __mul__(self, other):\n",
    "        other = other if isinstance(other, Value) else Value(other)\n",
    "        out = Value(self.data * other.data, (self, other), '*')\n",
    "        return out\n",
    "    \n",
    "a = Value(2.0, label='a')\n",
    "b = Value(-3.0, label='b')\n",
    "c = Value(10.0, label='c')\n",
    "e = a*b; e.label = 'e'\n",
    "d = e+c; d.label = 'd'\n",
    "f = Value(-2.0, label='f')\n",
    "L = d*f; L.label='L'\n",
    "L"
   ]
  },
  {
   "cell_type": "code",
   "execution_count": 50,
   "metadata": {},
   "outputs": [
    {
     "name": "stdout",
     "output_type": "stream",
     "text": [
      "3.9999999999995595\n"
     ]
    }
   ],
   "source": [
    "def lol():\n",
    "    h = 0.0001\n",
    "\n",
    "    a = Value(2.0, label='a')\n",
    "    b = Value(-3.0, label='b')\n",
    "    c = Value(10.0, label='c')\n",
    "    e = a*b; e.label = 'e'\n",
    "    d = e+c; d.label = 'd'\n",
    "    f = Value(-2.0, label='f')\n",
    "    L = d*f; L.label='L'\n",
    "    L1 = L.data\n",
    "    \n",
    "    a = Value(2.0, label='a')\n",
    "    b = Value(-3.0, label='b')\n",
    "    c = Value(10.0, label='c')\n",
    "    e = a*b; e.label = 'e'\n",
    "    d = e+c; d.label = 'd'\n",
    "    f = Value(-2.0, label='f')+h\n",
    "    L = d*f; L.label='L'\n",
    "    L2 = L.data\n",
    "    print((L2-L1)/h)\n",
    "lol()"
   ]
  },
  {
   "cell_type": "markdown",
   "metadata": {},
   "source": [
    "Our prediction was correct. $d$ will be -2"
   ]
  },
  {
   "cell_type": "code",
   "execution_count": 52,
   "metadata": {},
   "outputs": [
    {
     "name": "stdout",
     "output_type": "stream",
     "text": [
      "-1.9999999999953388\n"
     ]
    }
   ],
   "source": [
    "def lol():\n",
    "    h = 0.0001\n",
    "\n",
    "    a = Value(2.0, label='a')\n",
    "    b = Value(-3.0, label='b')\n",
    "    c = Value(10.0, label='c')\n",
    "    e = a*b; e.label = 'e'\n",
    "    d = e+c; d.label = 'd'\n",
    "    f = Value(-2.0, label='f')\n",
    "    L = d*f; L.label='L'\n",
    "    L1 = L.data\n",
    "    \n",
    "    a = Value(2.0, label='a')\n",
    "    b = Value(-3.0, label='b')\n",
    "    c = Value(10.0, label='c')\n",
    "    e = a*b; e.label = 'e'\n",
    "    d = e+c+h; d.label = 'd'\n",
    "    f = Value(-2.0, label='f')\n",
    "    L = d*f; L.label='L'\n",
    "    L2 = L.data\n",
    "    print((L2-L1)/h)\n",
    "lol()"
   ]
  },
  {
   "cell_type": "markdown",
   "metadata": {},
   "source": [
    "Correct!\n",
    "\n",
    "Let's update the two variable's gradient"
   ]
  },
  {
   "cell_type": "code",
   "execution_count": 53,
   "metadata": {},
   "outputs": [],
   "source": [
    "f.grad = 4\n",
    "d.grad = -2"
   ]
  },
  {
   "cell_type": "markdown",
   "metadata": {},
   "source": [
    "## 4. Chain Rule\n",
    "\n",
    "> Roughly speaking, if you know how chain rule works, you know how to back propagate all kinds of neural network."
   ]
  },
  {
   "cell_type": "markdown",
   "metadata": {},
   "source": [
    "Then how can we calculate the derivative of L in the respect to e?\n",
    "\n",
    "We introduce what is called Chain Rule in derivative, which is\n",
    "\n",
    "$dL/de = dL/dd * dd/de$\n",
    "\n",
    "it's little bit more complicated to mathematically prove it, but you can kind of get the \"vibe\"\n",
    "\n",
    "<br>\n",
    "\n",
    "since d = e + c, $dd/de$ is 1.\n",
    "\n",
    "this is because $((e+h)+c - (e+c))/h = h/h = 1$\n",
    "\n",
    "so $dL/de = dL/dd \\times 1 = -2$\n",
    "\n",
    "We can generalize that when operating addition, the grad is the same as($\\times 1$) the parent's grad.\n",
    "\n",
    "Let's check the code again if we're right."
   ]
  },
  {
   "cell_type": "code",
   "execution_count": 55,
   "metadata": {},
   "outputs": [
    {
     "name": "stdout",
     "output_type": "stream",
     "text": [
      "-1.9999999999953388\n"
     ]
    }
   ],
   "source": [
    "def lol():\n",
    "    h = 0.0001\n",
    "\n",
    "    a = Value(2.0, label='a')\n",
    "    b = Value(-3.0, label='b')\n",
    "    c = Value(10.0, label='c')\n",
    "    e = a*b; e.label = 'e'\n",
    "    d = e+c; d.label = 'd'\n",
    "    f = Value(-2.0, label='f')\n",
    "    L = d*f; L.label='L'\n",
    "    L1 = L.data\n",
    "    \n",
    "    a = Value(2.0, label='a')\n",
    "    b = Value(-3.0, label='b')\n",
    "    c = Value(10.0, label='c')\n",
    "    e = a*b+h; e.label = 'e'\n",
    "    d = e+c; d.label = 'd'\n",
    "    f = Value(-2.0, label='f')\n",
    "    L = d*f; L.label='L'\n",
    "    L2 = L.data\n",
    "    print((L2-L1)/h)\n",
    "lol()"
   ]
  },
  {
   "cell_type": "code",
   "execution_count": 56,
   "metadata": {},
   "outputs": [],
   "source": [
    "e.grad = -2\n",
    "c.grad = -2"
   ]
  },
  {
   "cell_type": "markdown",
   "metadata": {},
   "source": [
    "Lastly, since $e = a \\times b$,\n",
    "\n",
    "a.grad will be $-3 \\times -2 = 6$ and b.grad will be $2 \\times -2 = -4$"
   ]
  },
  {
   "cell_type": "code",
   "execution_count": 58,
   "metadata": {},
   "outputs": [
    {
     "name": "stdout",
     "output_type": "stream",
     "text": [
      "6.000000000021544\n"
     ]
    }
   ],
   "source": [
    "def lol():\n",
    "    h = 0.0001\n",
    "\n",
    "    a = Value(2.0, label='a')\n",
    "    b = Value(-3.0, label='b')\n",
    "    c = Value(10.0, label='c')\n",
    "    e = a*b; e.label = 'e'\n",
    "    d = e+c; d.label = 'd'\n",
    "    f = Value(-2.0, label='f')\n",
    "    L = d*f; L.label='L'\n",
    "    L1 = L.data\n",
    "    \n",
    "    a = Value(2.0, label='a') + h\n",
    "    b = Value(-3.0, label='b')\n",
    "    c = Value(10.0, label='c')\n",
    "    e = a*b; e.label = 'e'\n",
    "    d = e+c; d.label = 'd'\n",
    "    f = Value(-2.0, label='f')\n",
    "    L = d*f; L.label='L'\n",
    "    L2 = L.data\n",
    "    print((L2-L1)/h)\n",
    "lol()\n",
    "\n",
    "# b: -4\n",
    "# a: 6"
   ]
  },
  {
   "cell_type": "markdown",
   "metadata": {},
   "source": [
    "Great."
   ]
  },
  {
   "cell_type": "code",
   "execution_count": 59,
   "metadata": {},
   "outputs": [],
   "source": [
    "a.grad = 6\n",
    "b.grad = -4"
   ]
  }
 ],
 "metadata": {
  "kernelspec": {
   "display_name": "base",
   "language": "python",
   "name": "python3"
  },
  "language_info": {
   "codemirror_mode": {
    "name": "ipython",
    "version": 3
   },
   "file_extension": ".py",
   "mimetype": "text/x-python",
   "name": "python",
   "nbconvert_exporter": "python",
   "pygments_lexer": "ipython3",
   "version": "3.12.2"
  }
 },
 "nbformat": 4,
 "nbformat_minor": 2
}
