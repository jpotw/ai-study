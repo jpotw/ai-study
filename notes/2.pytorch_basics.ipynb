{
 "cells": [
  {
   "cell_type": "markdown",
   "metadata": {},
   "source": [
    "## 2.2. 텐서의 특징\n",
    "\n",
    "파이토치에서 연산 대상 데이터는 모두 Tensor라고 하는 파이토치 고유의 형식으로 돼 있어야 한다.\n",
    "\n",
    "torch.tensor()를 통해 만들고 float32 형식으로 만들어줄 것 -> 아니면 에러 발생함\n",
    "예외) `nn.CrossEntropyLoss`, `nn.NLLLoss`는 정수 타입(int64)을 사용함.\n",
    "\n",
    "\n",
    "`torch.ones()`는 1로 채워진 텐서를 만들어줌.\n",
    "`torch.randn()`은 표준 정규 분포를 따르는 난수를 만들어줌.\n",
    "\n",
    "`torch.view()`는 텐서의 계수를 변환해줌.\n",
    "이때 마지막에 -1을 넣으면 나머지 계수를 자동으로 계산해줌.\n",
    "Ex. r.view(1, -1) => 1행에 나머지 계수를 자동으로 계산해줌. (곱셈식으로 생각하면 쉬움)\n",
    "\n",
    "`torch.requires_grad`는 `True`로 설정하면 텐서의 연산 과정을 기록해줌.\n",
    "`torch.item()`은 텐서의 값을 파이썬 본래의 타입(int 또는 float)으로 변환해줌. 단, 1계 이상의 텐서에는 사용 불가. \n",
    "(예외: 요소가 1개인 1계 이상의 텐서에는 사용 가능)\n",
    "Ex.\n",
    "\n",
    "```python\n",
    "t1 = torch.ones(1,1,1,1,1,1,1)\n",
    "t1.item() # 오류 없음\n",
    "```\n",
    "\n",
    "`classname.max()`는 텐서 내 모든 요소 중 최댓값을 반환함.\n",
    "`torch.max()`는 기준이 되는 축을 기준으로 최댓값과 그 인덱스를 반환함.\n",
    "\n",
    "numpy 변수로 변환하기 위해서는 `tensor.data.numpy()`를 사용함. 이때 주소를 포인트하고 있으므로 역시 값만 복사해오고 싶은 경우 `tensor.data.numpy().copy()`를 사용해야 함.\n"
   ]
  },
  {
   "cell_type": "markdown",
   "metadata": {},
   "source": [
    "## 2.3. 자동 미분 기능\n",
    "\n",
    "경사 계산을 위해서는 `requires_grad`를 `True`로 설정해야 함.\n",
    "\n",
    "`requires_grad`를 통해 Define By Run 이 가능해짐 => 값을 계산해 나가며 계산 과정을 자동적으로 기록할 수 있음.\n",
    "\n"
   ]
  },
  {
   "cell_type": "code",
   "execution_count": 2,
   "metadata": {},
   "outputs": [
    {
     "ename": "ModuleNotFoundError",
     "evalue": "No module named 'torch'",
     "output_type": "error",
     "traceback": [
      "\u001b[1;31m---------------------------------------------------------------------------\u001b[0m",
      "\u001b[1;31mModuleNotFoundError\u001b[0m                       Traceback (most recent call last)",
      "Cell \u001b[1;32mIn[2], line 1\u001b[0m\n\u001b[1;32m----> 1\u001b[0m \u001b[38;5;28;01mimport\u001b[39;00m \u001b[38;5;21;01mtorch\u001b[39;00m\n",
      "\u001b[1;31mModuleNotFoundError\u001b[0m: No module named 'torch'"
     ]
    }
   ],
   "source": [
    "import torch"
   ]
  },
  {
   "cell_type": "code",
   "execution_count": null,
   "metadata": {},
   "outputs": [],
   "source": []
  }
 ],
 "metadata": {
  "kernelspec": {
   "display_name": "base",
   "language": "python",
   "name": "python3"
  },
  "language_info": {
   "codemirror_mode": {
    "name": "ipython",
    "version": 3
   },
   "file_extension": ".py",
   "mimetype": "text/x-python",
   "name": "python",
   "nbconvert_exporter": "python",
   "pygments_lexer": "ipython3",
   "version": "3.12.7"
  }
 },
 "nbformat": 4,
 "nbformat_minor": 2
}
