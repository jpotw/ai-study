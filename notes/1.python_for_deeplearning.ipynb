{
 "cells": [
  {
   "cell_type": "markdown",
   "metadata": {},
   "source": [
    "## 1.2. 컨테이너 타입\n",
    "\n",
    "list, numpy 등의 경우 숫자들을 담은 컨테이너의 주소를 가리킴.\n",
    "따라서 이를 복사하는 경우 주소를 복사하는 것이므로 원본과 복사본이 같은 주소를 가리키게 됨. => 수정 시 원본도 수정됨\n",
    "\n",
    "이를 해결하기 위해서는 주소가 아닌 값을 복사하는 것이 필요함.\n",
    "\n",
    "```python\n",
    "np.copy(a)\n",
    "```\n",
    "\n",
    "이렇게 하면 주소가 아닌 값을 복사하게 됨."
   ]
  },
  {
   "cell_type": "markdown",
   "metadata": {},
   "source": [
    "## 1.3. 합성함수\n",
    "\n",
    "합성함수의 정의: 함수 f1, f2가 있을 때, f1의 출력이 f2의 입력으로 들어가는 것을 합성함수라고 함.\n",
    "\n",
    "이를 파이썬으로 표현하면 아래와 같음.\n",
    "\n",
    "```python\n",
    "def f1(x):\n",
    "    return x + 1\n",
    "\n",
    "def f2(x):\n",
    "    return x * 2\n",
    "\n",
    "g = f2(f1(x))\n",
    "```"
   ]
  },
  {
   "cell_type": "markdown",
   "metadata": {},
   "source": [
    "## 1.5. 객체 지향과 커스텀 클래스\n",
    "\n",
    "> 파이토치로 머신러닝 또는 딥러닝 모델을 구축하려는 경우, 커스텀 클래스의 정의가 필요하다."
   ]
  },
  {
   "cell_type": "code",
   "execution_count": 2,
   "metadata": {},
   "outputs": [],
   "source": [
    "import matplotlib.pyplot as plt\n",
    "import matplotlib.patches as patches\n",
    "\n",
    "class Point():\n",
    "    def __init__(self, x, y):\n",
    "        self.x = x\n",
    "        self.y = y\n",
    "\n",
    "    def draw(self):\n",
    "        plt.plot(self.x, self.y, marker='o', c='k')\n"
   ]
  },
  {
   "cell_type": "markdown",
   "metadata": {},
   "source": [
    "위는 클래스의 예시임\n",
    "클래스라는 틀로부터 인스턴스를 찍어낸다고 생각하면 됨\n",
    "\n",
    "어느 클래스든 가장 처음에는 그 클래스를 선언(initialize)하도록 돼 있음.\n",
    "\n",
    "<br>\n",
    "\n",
    "\n",
    "cf) self에 관하여\n",
    "\n",
    "`__init__`을 포함한 모든 메서드는 첫 번째 인자로 항상 `self`를 받는다.\n",
    "여기서 주의할 점은 `self`는 인스턴스를 생성할 때 들어가는 input이 아니라, 인스턴스 그 자체라는 것\n",
    "\n",
    "이 부분이 직관적으로 느껴지지 않아 그 이유에 관해 Claude와 대화해봄:\n",
    "\n",
    "```python\n",
    "point = Point(1,2)\n",
    "```\n",
    "\n",
    "일때 내부적으로는\n",
    "\n",
    "```python\n",
    "point = Point.__init__(point, 1, 2)\n",
    "```\n",
    "와 같은 방식으로 동작함.\n",
    "\n",
    "그렇다면 왜 input으로 들어가지도 않으면서 `self`를 인자로써 받는 것일까?\n",
    "이는 Python이라는 언어의 철학과 맞닿아 있다고 함 == Explicit is better than implicit\n",
    "\n",
    "Java와 같은 언어에서는 실제로 `this`라는 키워드를 쓸 때 `this`의 존재가 암시적으로 존재함\n"
   ]
  },
  {
   "cell_type": "code",
   "execution_count": 5,
   "metadata": {},
   "outputs": [
    {
     "name": "stderr",
     "output_type": "stream",
     "text": [
      "C:\\Users\\USER\\AppData\\Local\\Temp\\ipykernel_4280\\515728509.py:8: UserWarning: No artists with labels found to put in legend.  Note that artists whose label start with an underscore are ignored when legend() is called with no argument.\n",
      "  plt.legend()\n"
     ]
    },
    {
     "data": {
      "image/png": "[encoded data removed]",
      "text/plain": [
       "<Figure size 640x480 with 1 Axes>"
      ]
     },
     "metadata": {},
     "output_type": "display_data"
    }
   ],
   "source": [
    "p1 = Point(2,3)\n",
    "p2 = Point(-1,-2)\n",
    "\n",
    "p1.draw()\n",
    "p2.draw()\n",
    "plt.xlim(-4,4)\n",
    "plt.ylim(-4,4)\n",
    "plt.legend()\n",
    "plt.show()\n"
   ]
  },
  {
   "cell_type": "code",
   "execution_count": 20,
   "metadata": {},
   "outputs": [],
   "source": [
    "class Circle1(Point):\n",
    "    def __init__(self,x,y,r):\n",
    "        # 부모 클래스인 Point의 init 메서드에서 가져오겠다는 뜻\n",
    "        super().__init__(x,y)\n",
    "        self.r = r\n",
    "    \n",
    "    def draw(self):\n",
    "        c = patches.Circle(xy=(self.x, self.y), radius=self.r, fc='b', ec='k')\n",
    "        ax.add_patch(c)"
   ]
  },
  {
   "cell_type": "markdown",
   "metadata": {},
   "source": [
    "#### cf) super()에 대한 이해\n",
    "\n",
    "super()를 알기 위해서는 MRO(Method Resolution Order)에 대한 이해가 필요함\n",
    "\n",
    "MRO는 쉽게 말해 클래스 상속 관계에서 메서드를 호출할 때 어떤 순서로 호출할지를 결정하는 규칙임\n",
    "\n",
    "이는 주로 1. 자식 클래스에서 가까운 부모 순, 2. 부모 클래스를 먼저 호출하는 순으로 결정됨.\n",
    "\n",
    "이를 확인하기 위해 아래 예시를 확인해보면:\n"
   ]
  },
  {
   "cell_type": "code",
   "execution_count": 5,
   "metadata": {},
   "outputs": [
    {
     "name": "stdout",
     "output_type": "stream",
     "text": [
      "독수리 생성\n",
      "날개 길이: 2.0\n"
     ]
    }
   ],
   "source": [
    "class Animal:\n",
    "    def __init__(self, name):\n",
    "        self.name = name\n",
    "        print(f\"{self.name} 생성\")\n",
    "\n",
    "class Bird(Animal):\n",
    "    def __init__(self, name, wing_span):\n",
    "        super().__init__(name)\n",
    "        self.wing_span = wing_span\n",
    "        print(f\"날개 길이: {self.wing_span}\")\n",
    "\n",
    "eagle = Bird(\"독수리\", 2.0)"
   ]
  },
  {
   "cell_type": "code",
   "execution_count": 12,
   "metadata": {},
   "outputs": [
    {
     "name": "stdout",
     "output_type": "stream",
     "text": [
      "(<class '__main__.Bird'>, <class '__main__.Animal'>, <class 'object'>)\n"
     ]
    }
   ],
   "source": [
    "print(Bird.__mro__)\n"
   ]
  },
  {
   "cell_type": "markdown",
   "metadata": {},
   "source": [
    "`super()`는 두 가지 input을 받음 1. 현재 클래스 2. 현재 인스턴스\n",
    "\n",
    "이후 MRO 기준 현재 클래스 다음에 오는 클래스 == 가장 가까운 부모 클래스 를 호출함\n",
    "\n",
    "더 복잡한 예제:"
   ]
  },
  {
   "cell_type": "code",
   "execution_count": 13,
   "metadata": {},
   "outputs": [
    {
     "name": "stdout",
     "output_type": "stream",
     "text": [
      "속도: 900\n",
      "비행 고도: 10000\n"
     ]
    }
   ],
   "source": [
    "class Vehicle:\n",
    "    def __init__(self, speed):\n",
    "        self.speed = speed\n",
    "        print(f\"속도: {speed}\")\n",
    "\n",
    "class Flyable:\n",
    "    def __init__(self, height):\n",
    "        self.height = height\n",
    "        print(f\"비행 고도: {height}\")\n",
    "\n",
    "class Aircraft(Vehicle, Flyable):\n",
    "    def __init__(self, speed, height):\n",
    "        # 두 부모 클래스의 초기화가 필요합니다\n",
    "        super().__init__(speed)  # Vehicle의 __init__ 호출\n",
    "        Flyable.__init__(self, height)  # 직접 호출\n",
    "\n",
    "jet = Aircraft(900, 10000)"
   ]
  },
  {
   "cell_type": "markdown",
   "metadata": {},
   "source": [
    "결론적으로 super는 부모 클래스에서 사용한 메서드(init 포함)를 **재사용**함으로써 불필요한 **코드 중복을 방지**할 수 있음."
   ]
  },
  {
   "cell_type": "code",
   "execution_count": 21,
   "metadata": {},
   "outputs": [
    {
     "name": "stdout",
     "output_type": "stream",
     "text": [
      "1 0 2\n"
     ]
    }
   ],
   "source": [
    "c1_1 = Circle1(1,0,2)\n",
    "print(c1_1.x, c1_1.y, c1_1.r)"
   ]
  },
  {
   "cell_type": "code",
   "execution_count": 22,
   "metadata": {},
   "outputs": [
    {
     "data": {
      "image/png": "[encoded data removed]",
      "text/plain": [
       "<Figure size 640x480 with 1 Axes>"
      ]
     },
     "metadata": {},
     "output_type": "display_data"
    }
   ],
   "source": [
    "ax = plt.subplot()\n",
    "plt.xlim(-4,4)\n",
    "plt.ylim(-4,4)\n",
    "c1_1.draw()"
   ]
  },
  {
   "cell_type": "markdown",
   "metadata": {},
   "source": [
    " > 부모 클래스와 같은 이름의 함수를 자식 클래스에서 역할을 달리 정의하는 것을 override라고 한다.\n",
    "\n",
    "Q. 근데 super()를 명시적으로 안 써줘도 해당하는 클래스에 메서드가 없으면 자동으로 부모의 메서드를 확인하는 거 아닌가\n",
    "\n",
    "A. 정리하면 `__init__`에는 무조건 필요하고 (모든 클래스는 `__init__`을 가지니까) 나머지 메서드는 안 써도 되긴 하는데 더 명시된다는 장점이 있다"
   ]
  },
  {
   "cell_type": "markdown",
   "metadata": {},
   "source": [
    "## 1.6. 인스턴스를 함수로 사용하는 방법\n",
    "\n",
    "클래스를 정의할 때 `__call__`이라는 함수를 정하고 그 함수에 수식을 적으면 됨."
   ]
  },
  {
   "cell_type": "code",
   "execution_count": 23,
   "metadata": {},
   "outputs": [],
   "source": [
    "class H:\n",
    "    def __call__(self, x):\n",
    "        return x**2 + 2"
   ]
  },
  {
   "cell_type": "code",
   "execution_count": 24,
   "metadata": {},
   "outputs": [
    {
     "name": "stdout",
     "output_type": "stream",
     "text": [
      "[-1.   -0.75 -0.5  -0.25  0.    0.25  0.5   0.75]\n"
     ]
    }
   ],
   "source": [
    "import numpy as np\n",
    "x = np.arange(-1,1,0.25)\n",
    "print(x)\n",
    "# [-1.   -0.75 -0.5  -0.25  0.    0.25  0.5   0.75]"
   ]
  },
  {
   "cell_type": "code",
   "execution_count": 25,
   "metadata": {},
   "outputs": [
    {
     "name": "stdout",
     "output_type": "stream",
     "text": [
      "[3.     2.5625 2.25   2.0625 2.     2.0625 2.25   2.5625]\n"
     ]
    }
   ],
   "source": [
    "h = H()\n",
    "y = h(x)\n",
    "\n",
    "print(y)\n",
    "# [3.     2.5625 2.25   2.0625 2.     2.0625 2.25   2.5625]"
   ]
  }
 ],
 "metadata": {
  "kernelspec": {
   "display_name": "Python 3",
   "language": "python",
   "name": "python3"
  },
  "language_info": {
   "codemirror_mode": {
    "name": "ipython",
    "version": 3
   },
   "file_extension": ".py",
   "mimetype": "text/x-python",
   "name": "python",
   "nbconvert_exporter": "python",
   "pygments_lexer": "ipython3",
   "version": "3.12.7"
  }
 },
 "nbformat": 4,
 "nbformat_minor": 2
}
