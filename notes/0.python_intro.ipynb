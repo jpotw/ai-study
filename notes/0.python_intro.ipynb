{
 "cells": [
  {
   "cell_type": "markdown",
   "id": "fef287a9b4b921bd",
   "metadata": {},
   "source": [
    "# 파이썬 입문 (*p.425~*)\n",
    "\n",
    "*내 기준 정리 필요한 부분들만 선별 정리하였음.*\n",
    "\n",
    "<br>\n",
    "\n",
    "list indexing할 때 주의사항:\n",
    "\n",
    "list[n1:n2]에서 n2는 `n2-1`**까지**임.\n",
    "\n",
    "\n"
   ]
  },
  {
   "cell_type": "code",
   "execution_count": 2,
   "id": "a5814aae98f2a964",
   "metadata": {
    "ExecuteTime": {
     "end_time": "2024-07-11T13:41:21.838982Z",
     "start_time": "2024-07-11T13:41:21.836752Z"
    }
   },
   "outputs": [
    {
     "name": "stdout",
     "output_type": "stream",
     "text": [
      "[1, 2, 3]은 리스트의 세 번째가 아닌 두 번째까지 인덱싱된다.\n"
     ]
    }
   ],
   "source": [
    "list = [1, 2, 3, 4, 5]\n",
    "print(str(list[0:3]) + \"은 리스트의 세 번째가 아닌 두 번째까지 인덱싱된다.\")"
   ]
  },
  {
   "cell_type": "markdown",
   "id": "e398fb09ce20f135",
   "metadata": {},
   "source": [
    "맨앞부터 또는 맨뒤까지 참조할 경우, 각각 앞, 뒤를 생략할 수 있다."
   ]
  },
  {
   "cell_type": "code",
   "execution_count": 5,
   "id": "8a2355190a463665",
   "metadata": {
    "ExecuteTime": {
     "end_time": "2024-07-11T13:45:11.098842Z",
     "start_time": "2024-07-11T13:45:11.095925Z"
    }
   },
   "outputs": [
    {
     "name": "stdout",
     "output_type": "stream",
     "text": [
      "[1, 2]\n",
      "[3, 4, 5]\n"
     ]
    }
   ],
   "source": [
    "list = [1, 2, 3, 4, 5]\n",
    "print(list[:2])\n",
    "print(list[-3:])"
   ]
  },
  {
   "cell_type": "markdown",
   "id": "f943f75035730ee4",
   "metadata": {},
   "source": [
    "튜플\n",
    "\n",
    "- 튜플은 수정이 불가하다.\n",
    "- `=`의 우변과 좌변이 서로 요소 수가 동등한 튜플이라면 **여러 개의 변수에 동시 대입이 가능**"
   ]
  },
  {
   "cell_type": "code",
   "execution_count": 7,
   "id": "c9f86f95e4aebf22",
   "metadata": {
    "ExecuteTime": {
     "end_time": "2024-07-11T14:36:04.912313Z",
     "start_time": "2024-07-11T14:36:04.909827Z"
    }
   },
   "outputs": [
    {
     "name": "stdout",
     "output_type": "stream",
     "text": [
      "1\n",
      "2\n"
     ]
    }
   ],
   "source": [
    "z = 1, 2\n",
    "a, b = z\n",
    "print(a)\n",
    "print(b)"
   ]
  },
  {
   "cell_type": "markdown",
   "id": "e1cadb58b74f8c5f",
   "metadata": {},
   "source": [
    "dict 와 for loop을 통해 다음의 loop 처리를 할 수 있다:"
   ]
  },
  {
   "cell_type": "code",
   "execution_count": 1,
   "id": "82d8e4db402276ea",
   "metadata": {},
   "outputs": [
    {
     "name": "stdout",
     "output_type": "stream",
     "text": [
      "a : 1\n",
      "b : 2\n",
      "c : 3\n"
     ]
    }
   ],
   "source": [
    "dict = {'a':1, 'b':2, 'c':3}\n",
    "\n",
    "for key, value in dict.items():\n",
    "    print(key, ':', value)"
   ]
  },
  {
   "cell_type": "markdown",
   "id": "3e719e8ab0e9b90a",
   "metadata": {},
   "source": [
    "# Numpy 입문 (*p.448~*)\n",
    "\n",
    "**Numpy**: 표 형식의 데이터 간 계산을 쉽게 할 수 있게 하는 툴 모음"
   ]
  },
  {
   "cell_type": "code",
   "execution_count": 2,
   "id": "38d10ce759f68f7c",
   "metadata": {
    "ExecuteTime": {
     "end_time": "2024-07-28T02:35:27.967784Z",
     "start_time": "2024-07-28T02:35:27.916653Z"
    }
   },
   "outputs": [],
   "source": [
    "import numpy as np\n",
    "np.set_printoptions(suppress=True, precision=5) # 소수점 다섯 번째 자리까지만 출력"
   ]
  },
  {
   "cell_type": "markdown",
   "id": "51a032ebbffa27b0",
   "metadata": {},
   "source": [
    "## 벡터"
   ]
  },
  {
   "cell_type": "code",
   "execution_count": 7,
   "id": "b3d056aae6f9c23",
   "metadata": {
    "ExecuteTime": {
     "end_time": "2024-07-28T02:36:30.653065Z",
     "start_time": "2024-07-28T02:36:30.650196Z"
    }
   },
   "outputs": [],
   "source": [
    "n1 = np.array([1, 2, 3, 4, 5, 6, 7])"
   ]
  },
  {
   "cell_type": "code",
   "execution_count": 10,
   "id": "31ef4eb9a25d71a3",
   "metadata": {
    "ExecuteTime": {
     "end_time": "2024-07-28T02:36:59.464760Z",
     "start_time": "2024-07-28T02:36:59.462822Z"
    }
   },
   "outputs": [
    {
     "name": "stdout",
     "output_type": "stream",
     "text": [
      "[1 2 3 4 5 6 7]\n",
      "(7,)\n",
      "7\n"
     ]
    }
   ],
   "source": [
    "print(n1)\n",
    "print(n1.shape)\n",
    "print(len(n1))"
   ]
  },
  {
   "cell_type": "markdown",
   "id": "1cc689447ee0cd66",
   "metadata": {},
   "source": [
    "array 함수의 인수(parameter)로 리스트를 넣으면 벡터가 만들어진다.\n",
    "shape 메소드를 통해 배열의 차원과 요소 수가 얼마인지 확인할 수 있다."
   ]
  },
  {
   "cell_type": "markdown",
   "id": "edc59246600d361a",
   "metadata": {},
   "source": [
    "## 행렬"
   ]
  },
  {
   "cell_type": "code",
   "execution_count": 11,
   "id": "9113de8c13aa6d4d",
   "metadata": {
    "ExecuteTime": {
     "end_time": "2024-07-28T02:40:10.191910Z",
     "start_time": "2024-07-28T02:40:10.189560Z"
    }
   },
   "outputs": [
    {
     "name": "stdout",
     "output_type": "stream",
     "text": [
      "[[ 1  2  3]\n",
      " [ 4  5  6]\n",
      " [ 7  8  9]\n",
      " [10 11 12]]\n",
      "(4, 3)\n",
      "4\n"
     ]
    }
   ],
   "source": [
    "n2 = np.array([\n",
    "    [1, 2, 3],\n",
    "    [4, 5, 6],\n",
    "    [7, 8, 9],\n",
    "    [10, 11, 12]\n",
    "])\n",
    "\n",
    "print(n2)\n",
    "print(n2.shape)\n",
    "print(len(n2))"
   ]
  },
  {
   "cell_type": "markdown",
   "id": "e15da957a64eacc7",
   "metadata": {},
   "source": [
    "## numpy array 초기설정 방법들\n",
    "\n",
    "1. zeros"
   ]
  },
  {
   "cell_type": "code",
   "execution_count": 13,
   "id": "722f31a1aca24396",
   "metadata": {
    "ExecuteTime": {
     "end_time": "2024-07-28T02:47:06.217743Z",
     "start_time": "2024-07-28T02:47:06.215751Z"
    }
   },
   "outputs": [
    {
     "name": "stdout",
     "output_type": "stream",
     "text": [
      "[0. 0. 0. 0. 0.]\n",
      "(5,)\n"
     ]
    }
   ],
   "source": [
    "n3 = np.zeros(5)\n",
    "print(n3)\n",
    "print(n3.shape)"
   ]
  },
  {
   "cell_type": "markdown",
   "id": "23d3b1556c91881f",
   "metadata": {},
   "source": [
    "2. ones"
   ]
  },
  {
   "cell_type": "code",
   "execution_count": 15,
   "id": "f02807805a4873d0",
   "metadata": {
    "ExecuteTime": {
     "end_time": "2024-07-28T02:47:24.841160Z",
     "start_time": "2024-07-28T02:47:24.837832Z"
    }
   },
   "outputs": [
    {
     "name": "stdout",
     "output_type": "stream",
     "text": [
      "[[1. 1. 1.]\n",
      " [1. 1. 1.]]\n",
      "(2, 3)\n"
     ]
    }
   ],
   "source": [
    "n4 = np.ones((2,3))\n",
    "print(n4)\n",
    "print(n4.shape)"
   ]
  },
  {
   "cell_type": "markdown",
   "id": "2f13f170311d0720",
   "metadata": {},
   "source": [
    "3. 정규분포 상에 있는 난수"
   ]
  },
  {
   "cell_type": "code",
   "execution_count": 17,
   "id": "acaf44a9f9fcd4a9",
   "metadata": {
    "ExecuteTime": {
     "end_time": "2024-07-28T02:49:10.569004Z",
     "start_time": "2024-07-28T02:49:10.566473Z"
    }
   },
   "outputs": [
    {
     "name": "stdout",
     "output_type": "stream",
     "text": [
      "[[[-2.19638 -0.40214 -0.44188  0.81474]\n",
      "  [-0.34231  0.24745 -0.08574  0.344  ]\n",
      "  [ 0.26917 -0.74128  0.34508  0.08028]]\n",
      "\n",
      " [[ 0.59336 -0.7801  -0.32417  1.46569]\n",
      "  [ 0.04253 -0.06063  0.82023  0.36748]\n",
      "  [ 0.61711 -0.02871 -2.31857 -1.51581]]]\n",
      "(2, 3, 4)\n"
     ]
    }
   ],
   "source": [
    "n5 = np.random.randn(2,3,4)\n",
    "print(n5)\n",
    "print(n5.shape)"
   ]
  },
  {
   "cell_type": "code",
   "execution_count": 18,
   "id": "92e9e70df1becf15",
   "metadata": {
    "ExecuteTime": {
     "end_time": "2024-07-28T03:00:18.468726Z",
     "start_time": "2024-07-28T03:00:18.465402Z"
    }
   },
   "outputs": [
    {
     "name": "stdout",
     "output_type": "stream",
     "text": [
      "[-1.  -0.8 -0.6 -0.4 -0.2  0.   0.2  0.4  0.6  0.8  1. ]\n"
     ]
    }
   ],
   "source": [
    "n6 = np.linspace(-1,1,11)\n",
    "print(n6)"
   ]
  },
  {
   "cell_type": "code",
   "execution_count": 23,
   "id": "bf2bc60c2dd36539",
   "metadata": {
    "ExecuteTime": {
     "end_time": "2024-07-28T03:01:53.960074Z",
     "start_time": "2024-07-28T03:01:53.957439Z"
    }
   },
   "outputs": [
    {
     "name": "stdout",
     "output_type": "stream",
     "text": [
      "[-1.  -0.8 -0.6 -0.4 -0.2 -0.   0.2  0.4  0.6  0.8  1. ]\n"
     ]
    }
   ],
   "source": [
    "n7 = np.arange(-1,1.2,0.2)\n",
    "print(n7)"
   ]
  }
 ],
 "metadata": {
  "kernelspec": {
   "display_name": "Python 3",
   "language": "python",
   "name": "python3"
  },
  "language_info": {
   "codemirror_mode": {
    "name": "ipython",
    "version": 2
   },
   "file_extension": ".py",
   "mimetype": "text/x-python",
   "name": "python",
   "nbconvert_exporter": "python",
   "pygments_lexer": "ipython2",
   "version": "2.7.6"
  }
 },
 "nbformat": 4,
 "nbformat_minor": 5
}
