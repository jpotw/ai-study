{
 "cells": [
  {
   "cell_type": "code",
   "execution_count": 1,
   "metadata": {},
   "outputs": [],
   "source": [
    "import numpy as np\n",
    "\n",
    "# 소수점 5자리까지 표현\n",
    "np.set_printoptions(suppress=True, precision=5)"
   ]
  },
  {
   "cell_type": "code",
   "execution_count": 2,
   "metadata": {},
   "outputs": [
    {
     "name": "stdout",
     "output_type": "stream",
     "text": [
      "n1.shape:  (5,)\n",
      "n2.shape:  (4, 3)\n"
     ]
    }
   ],
   "source": [
    "# 1차원 배열\n",
    "\n",
    "n1 = np.array([1, 2, 3, 4, 5])\n",
    "print('n1.shape: ', n1.shape)\n",
    "\n",
    "# 2차원 배열 (행렬)\n",
    "\n",
    "n2 = np.array([\n",
    "    [1, 2, 3], \n",
    "    [4, 5, 6],\n",
    "    [7, 8, 9],\n",
    "    [10, 11, 12]\n",
    "    ])\n",
    "\n",
    "print('n2.shape: ', n2.shape)\n"
   ]
  },
  {
   "cell_type": "markdown",
   "metadata": {},
   "source": [
    "값을 일일이 지정하지 않고 벡터나 행렬을 정의하는 법: `zeros`, `ones`, `randn` 등의 메서드 이용"
   ]
  },
  {
   "cell_type": "code",
   "execution_count": 3,
   "metadata": {},
   "outputs": [
    {
     "name": "stdout",
     "output_type": "stream",
     "text": [
      "n3:  [0. 0. 0. 0. 0.]\n",
      "n3.shape:  (5,)\n"
     ]
    }
   ],
   "source": [
    "n3 = np.zeros(5)\n",
    "print('n3: ', n3)\n",
    "print('n3.shape: ', n3.shape)"
   ]
  },
  {
   "cell_type": "code",
   "execution_count": 4,
   "metadata": {},
   "outputs": [
    {
     "name": "stdout",
     "output_type": "stream",
     "text": [
      "n4:  [[1. 1. 1.]\n",
      " [1. 1. 1.]]\n",
      "n4.shape:  (2, 3)\n"
     ]
    }
   ],
   "source": [
    "n4 = np.ones((2,3))\n",
    "print('n4: ', n4)\n",
    "print('n4.shape: ', n4.shape)"
   ]
  },
  {
   "cell_type": "code",
   "execution_count": 5,
   "metadata": {},
   "outputs": [
    {
     "name": "stdout",
     "output_type": "stream",
     "text": [
      "n5:  [[[ 0.1714   1.76377  0.35521 -0.64006]\n",
      "  [ 0.09212 -0.02098 -0.04905  0.88438]\n",
      "  [-0.23138 -1.78002  0.40919  0.12876]]\n",
      "\n",
      " [[-0.51669  1.4187   1.23351 -0.25173]\n",
      "  [ 1.54837  0.907   -0.73951  0.71989]\n",
      "  [ 1.35818  1.69925 -0.52138 -0.52209]]]\n",
      "n5.shape:  (2, 3, 4)\n"
     ]
    }
   ],
   "source": [
    "# 평균 1, 표준편차 0인 정규분포 데이터 생성\n",
    "\n",
    "n5 = np.random.randn(2,3,4)\n",
    "print('n5: ', n5)\n",
    "print('n5.shape: ', n5.shape)\n"
   ]
  },
  {
   "cell_type": "markdown",
   "metadata": {},
   "source": [
    "### linspace\n",
    "\n",
    "linspace의 인자: 시작값, 종료값, 간격 지정을 위한 점의 개수\n",
    "\n",
    "주의: **n 등분을 내고 싶다면 종료값을 n+1로 지정해야 함**"
   ]
  },
  {
   "cell_type": "code",
   "execution_count": 6,
   "metadata": {},
   "outputs": [
    {
     "name": "stdout",
     "output_type": "stream",
     "text": [
      "n6:  [ 0.   0.2  0.4  0.6  0.8  1.   1.2  1.4  1.6  1.8  2.   2.2  2.4  2.6\n",
      "  2.8  3.   3.2  3.4  3.6  3.8  4.   4.2  4.4  4.6  4.8  5.   5.2  5.4\n",
      "  5.6  5.8  6.   6.2  6.4  6.6  6.8  7.   7.2  7.4  7.6  7.8  8.   8.2\n",
      "  8.4  8.6  8.8  9.   9.2  9.4  9.6  9.8 10. ]\n",
      "n6.shape:  (51,)\n"
     ]
    }
   ],
   "source": [
    "n6 = np.linspace(0, 10, 51)\n",
    "print('n6: ', n6)\n",
    "print('n6.shape: ', n6.shape)\n",
    "\n"
   ]
  },
  {
   "cell_type": "markdown",
   "metadata": {},
   "source": [
    "### arange\n",
    "\n",
    "arange의 인자: 시작값, 종료값, 간격\n",
    "\n",
    "주의: **두번째 인자인 종료값은 포함되지 않음(종료값 미만)**"
   ]
  },
  {
   "cell_type": "code",
   "execution_count": 7,
   "metadata": {},
   "outputs": [
    {
     "name": "stdout",
     "output_type": "stream",
     "text": [
      "n7:  [ 0  1  2  3  4  5  6  7  8  9 10]\n",
      "n7.shape:  (11,)\n"
     ]
    }
   ],
   "source": [
    "n7 = np.arange(0, 11, 1)\n",
    "print('n7: ', n7) # 11은 포함되지 않음\n",
    "print('n7.shape: ', n7.shape)"
   ]
  },
  {
   "cell_type": "markdown",
   "metadata": {},
   "source": [
    "### 특정 행 / 특정 열 추출"
   ]
  },
  {
   "cell_type": "code",
   "execution_count": 8,
   "metadata": {},
   "outputs": [
    {
     "name": "stdout",
     "output_type": "stream",
     "text": [
      "[ 1  4  7 10]\n"
     ]
    }
   ],
   "source": [
    "n8 = n2[:,0] # 모든 행의 0번째 열 추출\n",
    "\n",
    "print(n8)"
   ]
  },
  {
   "cell_type": "code",
   "execution_count": 9,
   "metadata": {},
   "outputs": [
    {
     "name": "stdout",
     "output_type": "stream",
     "text": [
      "[[ 4  5  6]\n",
      " [10 11 12]]\n"
     ]
    }
   ],
   "source": [
    "n2_index = np.array([False, True, False, True])\n",
    "n9 = n2[n2_index]\n",
    "print(n9)"
   ]
  },
  {
   "cell_type": "markdown",
   "metadata": {},
   "source": [
    "### reshape"
   ]
  },
  {
   "cell_type": "code",
   "execution_count": 10,
   "metadata": {},
   "outputs": [
    {
     "name": "stdout",
     "output_type": "stream",
     "text": [
      "[ 0  1  2  3  4  5  6  7  8  9 10 11 12 13 14 15 16 17 18 19 20 21 22 23]\n"
     ]
    }
   ],
   "source": [
    "n10 = np.array(range(24))\n",
    "print(n10)"
   ]
  },
  {
   "cell_type": "code",
   "execution_count": 11,
   "metadata": {},
   "outputs": [
    {
     "name": "stdout",
     "output_type": "stream",
     "text": [
      "[[[ 0  1]\n",
      "  [ 2  3]\n",
      "  [ 4  5]\n",
      "  [ 6  7]\n",
      "  [ 8  9]\n",
      "  [10 11]]\n",
      "\n",
      " [[12 13]\n",
      "  [14 15]\n",
      "  [16 17]\n",
      "  [18 19]\n",
      "  [20 21]\n",
      "  [22 23]]]\n"
     ]
    }
   ],
   "source": [
    "n11 = n10.reshape(2,-1,2)\n",
    "print(n11)"
   ]
  },
  {
   "cell_type": "code",
   "execution_count": 12,
   "metadata": {},
   "outputs": [
    {
     "name": "stdout",
     "output_type": "stream",
     "text": [
      "(24,)\n",
      "(1, 24)\n"
     ]
    }
   ],
   "source": [
    "print(n10.shape)\n",
    "\n",
    "n12 = n10.reshape(1,-1)\n",
    "print(n12.shape)"
   ]
  },
  {
   "cell_type": "markdown",
   "metadata": {},
   "source": [
    "### 축 교체"
   ]
  },
  {
   "cell_type": "code",
   "execution_count": 13,
   "metadata": {},
   "outputs": [
    {
     "name": "stdout",
     "output_type": "stream",
     "text": [
      "(4, 3)\n",
      "(3, 4)\n"
     ]
    }
   ],
   "source": [
    "n14 = n2.T # 전치 행렬\n",
    "print(n2.shape)\n",
    "print(n14.shape)"
   ]
  },
  {
   "cell_type": "code",
   "execution_count": 14,
   "metadata": {},
   "outputs": [
    {
     "name": "stdout",
     "output_type": "stream",
     "text": [
      "(2, 3, 4)\n",
      "(3, 4, 2)\n"
     ]
    }
   ],
   "source": [
    "n15 = np.zeros((2,3,4))\n",
    "print(n15.shape)\n",
    "n16 = np.transpose(n15, (1,2,0))\n",
    "print(n16.shape)"
   ]
  },
  {
   "cell_type": "markdown",
   "metadata": {},
   "source": [
    "### 행렬 연결"
   ]
  },
  {
   "cell_type": "code",
   "execution_count": 18,
   "metadata": {},
   "outputs": [
    {
     "name": "stdout",
     "output_type": "stream",
     "text": [
      "(4,)\n",
      "(3, 4)\n"
     ]
    }
   ],
   "source": [
    "n17 = np.array(range(1,9)).reshape(2,4)\n",
    "n18 = np.array(range(9,17)).reshape(2,4)\n",
    "\n",
    "n19 = np.array(range(1,5))\n",
    "\n",
    "print(n19.shape)\n",
    "n20 = np.vstack([n17, n19])\n",
    "\n",
    "print(n20.shape)"
   ]
  },
  {
   "cell_type": "markdown",
   "metadata": {},
   "source": [
    "### NumPy의 차원 자동 확장(Broadcasting) 규칙\n",
    "\n",
    "#### 1차원/2차원 배열의 자동 확장\n",
    "NumPy는 1차원 배열을 2차원 배열과 함께 사용할 때 자동으로 차원을 확장해주는 기능을 제공함.\n",
    "\n",
    "#### 예시\n",
    "```python\n",
    "import numpy as np\n",
    "\n",
    "# 2차원 행렬\n",
    "matrix = np.array([[1, 2, 3],\n",
    "                   [4, 5, 6]])  # shape: (2,3)\n",
    "\n",
    "# 1차원 벡터\n",
    "vector = np.array([7, 8, 9])    # shape: (3,)\n",
    "\n",
    "# 자동 확장되어 vstack 가능\n",
    "result = np.vstack([matrix, vector])\n",
    "print(result.shape)  # (3, 3)\n",
    "```\n",
    "\n",
    "<br>\n",
    "\n",
    "### 3차원 이상 배열에서의 제한\n",
    "\n",
    "3차원 이상의 배열에서는 자동 확장이 지원되지 않는다.\n",
    "\n",
    "```python\n",
    "# 3차원 배열과 1차원 배열은 자동 확장 불가\n",
    "array_3d = np.zeros((1,1,4))\n",
    "vector = np.array([1,2,3,4])\n",
    "\n",
    "# 오류 발생\n",
    "# np.vstack([array_3d, vector])  # ValueError\n",
    "```"
   ]
  }
 ],
 "metadata": {
  "kernelspec": {
   "display_name": "base",
   "language": "python",
   "name": "python3"
  },
  "language_info": {
   "codemirror_mode": {
    "name": "ipython",
    "version": 3
   },
   "file_extension": ".py",
   "mimetype": "text/x-python",
   "name": "python",
   "nbconvert_exporter": "python",
   "pygments_lexer": "ipython3",
   "version": "3.12.7"
  }
 },
 "nbformat": 4,
 "nbformat_minor": 2
}
